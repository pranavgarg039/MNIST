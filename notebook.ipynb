{
 "cells": [
  {
   "cell_type": "code",
   "execution_count": 25,
   "metadata": {},
   "outputs": [],
   "source": [
    "import numpy as np\n",
    "import pandas as pd\n",
    "import matplotlib.pyplot as plt\n",
    "import seaborn as sns\n",
    "import sklearn\n",
    "from sklearn.model_selection import train_test_split\n",
    "import torch\n",
    "import torch.nn as nn\n",
    "import torch.nn.functional as F\n",
    "from torch.utils.data import Dataset, DataLoader\n",
    "import torchvision\n",
    "from torchvision.transforms import Compose\n",
    "from albumentations import Compose, ShiftScaleRotate, ToFloat\n",
    "from albumentations.pytorch import ToTensorV2\n",
    "import torch.optim as optim\n",
    "from torch.optim.lr_scheduler import ExponentialLR"
   ]
  },
  {
   "cell_type": "code",
   "execution_count": 26,
   "metadata": {},
   "outputs": [],
   "source": [
    "df1 = pd.read_csv('train.csv.zip')\n",
    "Y = df1.label.values\n",
    "df1.drop(columns = 'label', inplace = True)\n",
    "X = df1.values.reshape(-1,28,28,1) \n",
    "train_x, val_x, train_y, val_y = train_test_split(X,Y, test_size =0.2)"
   ]
  },
  {
   "cell_type": "code",
   "execution_count": 27,
   "metadata": {},
   "outputs": [],
   "source": [
    "train_transforms = Compose([ToFloat(max_value = 255),ShiftScaleRotate(), ToTensorV2()])\n",
    "val_transforms = Compose([ToFloat(max_value = 255), ToTensorV2()])"
   ]
  },
  {
   "cell_type": "code",
   "execution_count": 28,
   "metadata": {},
   "outputs": [],
   "source": [
    "class dataloading(Dataset):\n",
    "    def __init__(self, X,y = None, is_test = False, transforms = None ):\n",
    "        self.X = X\n",
    "        self.y = y\n",
    "        self.is_test = is_test\n",
    "        self.transforms = transforms\n",
    "    \n",
    "    def __len__(self):\n",
    "        return len(self.X)\n",
    "    \n",
    "    def __getitem__(self, index):\n",
    "        image = self.X[index]\n",
    "        if self.transforms:\n",
    "            image = self.transforms(image = image)['image']\n",
    "        if self.is_test:\n",
    "            return image\n",
    "        else :\n",
    "            return image,self.y[index]"
   ]
  },
  {
   "cell_type": "code",
   "execution_count": 29,
   "metadata": {},
   "outputs": [],
   "source": [
    "class CNN(nn.Module) :\n",
    "    def __init__(self):\n",
    "        super(CNN,self).__init__()\n",
    "        self.conv1 = nn.Conv2d(in_channels = 1,out_channels = 16, kernel_size = 3)\n",
    "        self.batch1 = nn.BatchNorm2d(16)\n",
    "        self.conv2 = nn.Conv2d(in_channels = 16,out_channels = 32,kernel_size = 3)\n",
    "        self.batch2 = nn.BatchNorm2d(32)\n",
    "        self.pool2 = nn.MaxPool2d(2)\n",
    "        self.conv3 = nn.Conv2d(in_channels = 32,out_channels = 32,kernel_size = 5)\n",
    "        self.batch3 = nn.BatchNorm2d(32)\n",
    "        self.fc1 = nn.Linear(32*8*8,100)\n",
    "        self.batchfc1 = nn.BatchNorm1d(100)\n",
    "        self.fc2 = nn.Linear(100,10)\n",
    "        self.dropout = nn.Dropout2d(0.7)\n",
    "        \n",
    "    def forward(self,x):\n",
    "        x = F.leaky_relu(self.conv1(x))\n",
    "        x = self.batch1(x)\n",
    "        x = F.leaky_relu(self.conv2(x))\n",
    "        x = self.batch2(x)\n",
    "        x = self.pool2(x)\n",
    "        x = F.leaky_relu(self.conv3(x))\n",
    "        x = self.batch3(x)\n",
    "        x = x.view(x.size(0),-1)\n",
    "\n",
    "        x = F.leaky_relu(self.fc1(x))\n",
    "        x = self.batchfc1(x)\n",
    "        x = self.dropout(x)\n",
    "        x = self.fc2(x)\n",
    "        return x"
   ]
  },
  {
   "cell_type": "code",
   "execution_count": 30,
   "metadata": {},
   "outputs": [],
   "source": [
    "def train_one_epoch(model,train_loader, optimizer, criterion):\n",
    "    model.train()\n",
    "    running_loss = 0\n",
    "    for inputs, labels in train_loader :\n",
    "        optimizer.zero_grad()\n",
    "        outputs = model(inputs)\n",
    "        loss = criterion(outputs,labels)\n",
    "        loss.backward()\n",
    "        optimizer.step()\n",
    "        running_loss += loss.item()\n",
    "    train_loss = running_loss/len(train_loader.dataset)\n",
    "    return train_loss"
   ]
  },
  {
   "cell_type": "code",
   "execution_count": 31,
   "metadata": {},
   "outputs": [],
   "source": [
    "def validate(model,val_loader,criterion):\n",
    "    model.eval()\n",
    "    correct = 0\n",
    "    running_val_loss = 0\n",
    "    with torch.no_grad() :\n",
    "        for inputs, labels in val_loader :\n",
    "            outputs = model(inputs)\n",
    "            loss= criterion(outputs,labels)\n",
    "            pred = outputs.argmax(dim = 1)\n",
    "            correct+= pred.eq(labels).sum().item()\n",
    "            running_val_loss += loss.item()\n",
    "    acc = correct/len(val_loader.dataset)\n",
    "    val_loss = running_val_loss/len(val_loader.dataset)\n",
    "    return acc, val_loss"
   ]
  },
  {
   "cell_type": "code",
   "execution_count": 32,
   "metadata": {},
   "outputs": [],
   "source": [
    "def fit(model, train_loader, val_loader,learning_rate, num_epochs):\n",
    "    optimizer = optim.Adam(model.parameters(), lr = learning_rate)\n",
    "    criterion = nn.CrossEntropyLoss()\n",
    "    scheduler = ExponentialLR(optimizer, gamma = 0.99)\n",
    "    for epoch in range(1,num_epochs+1):\n",
    "        train_loss = train_one_epoch(model, train_loader,optimizer, criterion)\n",
    "        acc, val_loss = validate(model, val_loader,criterion)\n",
    "        scheduler.step()\n",
    "        print(f'Epoch No. = {epoch} \\n Train loss = {train_loss} \\n Val accuracy = {acc}' )"
   ]
  },
  {
   "cell_type": "code",
   "execution_count": null,
   "metadata": {},
   "outputs": [
    {
     "name": "stdout",
     "output_type": "stream",
     "text": [
      "Epoch No. = 1 \n",
      " Train loss = 0.014894557040007342 \n",
      " Val accuracy = 0.959047619047619\n",
      "Epoch No. = 2 \n",
      " Train loss = 0.00647108912113167 \n",
      " Val accuracy = 0.9742857142857143\n",
      "Epoch No. = 3 \n",
      " Train loss = 0.004462609902423407 \n",
      " Val accuracy = 0.9791666666666666\n"
     ]
    }
   ],
   "source": [
    "train_batch_size = 64\n",
    "val_batch_size = 256\n",
    "learning_rate = 0.0001\n",
    "num_epochs = 50\n",
    "\n",
    "train_X = dataloading(train_x, train_y, is_test = False, transforms = train_transforms)\n",
    "val_X = dataloading(val_x, val_y, is_test = False, transforms = val_transforms)\n",
    "\n",
    "train_loader = DataLoader(train_X, batch_size = train_batch_size, drop_last = True,shuffle = True)\n",
    "val_loader = DataLoader(val_X, batch_size = val_batch_size, shuffle = False)\n",
    "\n",
    "model = CNN()\n",
    "fit(model, train_loader, val_loader,learning_rate, num_epochs)"
   ]
  },
  {
   "cell_type": "code",
   "execution_count": null,
   "metadata": {},
   "outputs": [],
   "source": [
    "id = np.arange(1,28001,1)\n",
    "df = pd.DataFrame(id, columns = ['ImageId'])\n",
    "test = pd.read_csv('test.csv.zip')\n",
    "test = test.values.reshape(-1,28,28,1)\n",
    "test_transforms = Compose([ToFloat(max_value = 255), ToTensorV2()])\n",
    "test_X = dataloading(test, is_test = True, transforms = val_transforms)\n",
    "test_loader = DataLoader(test_X, batch_size = 28000, shuffle = False)\n",
    "def predict(model, test_loader) :\n",
    "    model.eval()\n",
    "    with torch.no_grad() :\n",
    "        for i, inputs in enumerate(test_loader):\n",
    "            outputs = model(inputs)\n",
    "            pred = outputs.argmax(dim =1).numpy()\n",
    "    df2 = pd.DataFrame(pred, columns = ['Label'])\n",
    "    output = pd.concat([df,df2], axis =1)\n",
    "    output.to_csv(r'C:\\Users\\Pranav\\Desktop\\Projects\\Digit Recognizer\\out2', index = False)\n",
    "    return output    "
   ]
  },
  {
   "cell_type": "code",
   "execution_count": 21,
   "metadata": {},
   "outputs": [
    {
     "data": {
      "text/html": [
       "<div>\n",
       "<style scoped>\n",
       "    .dataframe tbody tr th:only-of-type {\n",
       "        vertical-align: middle;\n",
       "    }\n",
       "\n",
       "    .dataframe tbody tr th {\n",
       "        vertical-align: top;\n",
       "    }\n",
       "\n",
       "    .dataframe thead th {\n",
       "        text-align: right;\n",
       "    }\n",
       "</style>\n",
       "<table border=\"1\" class=\"dataframe\">\n",
       "  <thead>\n",
       "    <tr style=\"text-align: right;\">\n",
       "      <th></th>\n",
       "      <th>ImageId</th>\n",
       "      <th>Label</th>\n",
       "    </tr>\n",
       "  </thead>\n",
       "  <tbody>\n",
       "    <tr>\n",
       "      <th>0</th>\n",
       "      <td>1</td>\n",
       "      <td>2</td>\n",
       "    </tr>\n",
       "    <tr>\n",
       "      <th>1</th>\n",
       "      <td>2</td>\n",
       "      <td>0</td>\n",
       "    </tr>\n",
       "    <tr>\n",
       "      <th>2</th>\n",
       "      <td>3</td>\n",
       "      <td>9</td>\n",
       "    </tr>\n",
       "    <tr>\n",
       "      <th>3</th>\n",
       "      <td>4</td>\n",
       "      <td>0</td>\n",
       "    </tr>\n",
       "    <tr>\n",
       "      <th>4</th>\n",
       "      <td>5</td>\n",
       "      <td>3</td>\n",
       "    </tr>\n",
       "    <tr>\n",
       "      <th>...</th>\n",
       "      <td>...</td>\n",
       "      <td>...</td>\n",
       "    </tr>\n",
       "    <tr>\n",
       "      <th>27995</th>\n",
       "      <td>27996</td>\n",
       "      <td>9</td>\n",
       "    </tr>\n",
       "    <tr>\n",
       "      <th>27996</th>\n",
       "      <td>27997</td>\n",
       "      <td>7</td>\n",
       "    </tr>\n",
       "    <tr>\n",
       "      <th>27997</th>\n",
       "      <td>27998</td>\n",
       "      <td>3</td>\n",
       "    </tr>\n",
       "    <tr>\n",
       "      <th>27998</th>\n",
       "      <td>27999</td>\n",
       "      <td>9</td>\n",
       "    </tr>\n",
       "    <tr>\n",
       "      <th>27999</th>\n",
       "      <td>28000</td>\n",
       "      <td>2</td>\n",
       "    </tr>\n",
       "  </tbody>\n",
       "</table>\n",
       "<p>28000 rows × 2 columns</p>\n",
       "</div>"
      ],
      "text/plain": [
       "       ImageId  Label\n",
       "0            1      2\n",
       "1            2      0\n",
       "2            3      9\n",
       "3            4      0\n",
       "4            5      3\n",
       "...        ...    ...\n",
       "27995    27996      9\n",
       "27996    27997      7\n",
       "27997    27998      3\n",
       "27998    27999      9\n",
       "27999    28000      2\n",
       "\n",
       "[28000 rows x 2 columns]"
      ]
     },
     "execution_count": 21,
     "metadata": {},
     "output_type": "execute_result"
    }
   ],
   "source": [
    "output = predict(model, test_loader,device)\n",
    "output"
   ]
  },
  {
   "cell_type": "code",
   "execution_count": null,
   "metadata": {},
   "outputs": [],
   "source": []
  },
  {
   "cell_type": "code",
   "execution_count": 256,
   "metadata": {},
   "outputs": [],
   "source": []
  },
  {
   "cell_type": "code",
   "execution_count": null,
   "metadata": {},
   "outputs": [],
   "source": []
  },
  {
   "cell_type": "code",
   "execution_count": 260,
   "metadata": {},
   "outputs": [],
   "source": []
  },
  {
   "cell_type": "code",
   "execution_count": null,
   "metadata": {},
   "outputs": [],
   "source": []
  },
  {
   "cell_type": "code",
   "execution_count": null,
   "metadata": {},
   "outputs": [],
   "source": []
  },
  {
   "cell_type": "code",
   "execution_count": 264,
   "metadata": {},
   "outputs": [],
   "source": []
  },
  {
   "cell_type": "code",
   "execution_count": null,
   "metadata": {},
   "outputs": [],
   "source": []
  }
 ],
 "metadata": {
  "kernelspec": {
   "display_name": "Python 3",
   "language": "python",
   "name": "python3"
  },
  "language_info": {
   "codemirror_mode": {
    "name": "ipython",
    "version": 3
   },
   "file_extension": ".py",
   "mimetype": "text/x-python",
   "name": "python",
   "nbconvert_exporter": "python",
   "pygments_lexer": "ipython3",
   "version": "3.7.6"
  }
 },
 "nbformat": 4,
 "nbformat_minor": 4
}
